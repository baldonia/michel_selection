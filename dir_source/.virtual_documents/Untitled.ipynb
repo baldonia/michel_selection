import numpy as np
import awkward as ak
import matplotlib.pyplot as plt
import uproot
import mplhep as hep
hep.style.use("CMS")


data = uproot.concatenate(['/nfs/disk1/eos/eos-processed-data-jan25/rat_processed_data/run966/*.root:output'])
mc = uproot.open('/nfs/disk1/eos/mc-production-bu/90Y_z0_theta135_phi22.5_run925.root')['output'].arrays()

meta = uproot.open('/nfs/disk1/eos/mc-production-bu/90Y_z0_theta135_phi22.5_run925.root')['meta'].arrays()


nhits = np.histogram(data['digitNhits'].to_numpy(), bins=np.arange(250))
hep.histplot(nhits)
plt.semilogy()


h = np.histogram(data.triggerTime.to_numpy(), bins=np.arange(0, 500, 2))
hep.histplot(h)


data.type.show()
